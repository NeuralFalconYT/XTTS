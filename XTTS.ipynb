{
  "cells": [
    {
      "cell_type": "markdown",
      "metadata": {
        "id": "Xmcx3KcNaq5_"
      },
      "source": [
        "[XTTS Huggingspace](https://huggingface.co/spaces/coqui/xtts)\n",
        "\n",
        "[Online audio cutter](https://mp3cut.net/)\n",
        "\n",
        "[Remove vocal from audio](https://vocalremover.org/https://vocalremover.org/)\n",
        "\n",
        "[Enhance audio](https://podcast.adobe.com/enhance)"
      ]
    },
    {
      "cell_type": "code",
      "execution_count": null,
      "metadata": {
        "colab": {
          "base_uri": "https://localhost:8080/",
          "height": 92
        },
        "id": "0vjcq6qjRgqy",
        "outputId": "8640473b-5942-47f7-f9be-ddc36571daed"
      },
      "outputs": [
        {
          "data": {
            "text/html": [
              "<b>Press play on the music player to keep the tab alive, then run the cell below</b><br/>\n",
              "<audio src=\"https://raw.githubusercontent.com/KoboldAI/KoboldAI-Client/main/colab/silence.m4a\" controls>\n"
            ],
            "text/plain": [
              "<IPython.core.display.HTML object>"
            ]
          },
          "metadata": {},
          "output_type": "display_data"
        }
      ],
      "source": [
        "#@title <-- Tap this if you play on Mobile { display-mode: \"form\" }\n",
        "\n",
        "%%html\n",
        "<b>Press play on the music player to keep the tab alive, then run the cell below</b><br/>\n",
        "<audio src=\"https://raw.githubusercontent.com/KoboldAI/KoboldAI-Client/main/colab/silence.m4a\" controls>"
      ]
    },
    {
      "cell_type": "code",
      "execution_count": null,
      "metadata": {
        "cellView": "form",
        "id": "H75I9ihcRwok"
      },
      "outputs": [],
      "source": [
        "#@title Install XTTS (It will take 12-15 minutes)\n",
        "\n",
        "# https://huggingface.co/spaces/coqui/xtts\n",
        "# https://docs.coqui.ai/en/dev/models/xtts.html\n",
        "!pip install pydub\n",
        "# !pip install googletrans==3.1.0a0\n",
        "!rm -rf /content/TTS\n",
        "!rm -rf /content/XTTS-v2\n",
        "%cd /content/\n",
        "#!wget https://github.com/neuralfalcon/Voice_Clone/raw/main/ronaldo_bhai.wav\n",
        "!git clone https://github.com/coqui-ai/TTS/\n",
        "%cd /content/TTS\n",
        "!make system-deps\n",
        "!make install\n",
        "\n",
        "%cd /content/\n",
        "!git lfs install\n",
        "!git clone https://huggingface.co/coqui/XTTS-v2\n",
        "!pip install numpy==1.26.2\n",
        "!pip install tensorflow==2.12.0\n",
        "\n",
        "%cd /content\n",
        "!git clone https://github.com/adefossez/seewav.git\n",
        "!sudo apt install libcairo2-dev pkg-config python3-dev\n",
        "!pip install pycairo\n",
        "%cd /content/seewav\n",
        "!pip install .\n",
        "\n",
        "\n",
        "\n",
        "from IPython.display import clear_output\n",
        "clear_output()\n",
        "#@title Restart Runtime\n",
        "import time\n",
        "time.sleep(6)\n",
        "import os\n",
        "os.kill(os.getpid(), 9)"
      ]
    },
    {
      "cell_type": "markdown",
      "metadata": {
        "id": "vXQTIVPE5bJl"
      },
      "source": [
        "#After disconnect run from next UTILS"
      ]
    },
    {
      "cell_type": "code",
      "execution_count": null,
      "metadata": {
        "cellView": "form",
        "colab": {
          "base_uri": "https://localhost:8080/"
        },
        "id": "pPbQO4MyRnRE",
        "outputId": "66172c6e-2c4f-413e-c21c-eff2aa229d34"
      },
      "outputs": [
        {
          "name": "stderr",
          "output_type": "stream",
          "text": [
            "/content/TTS/TTS/api.py:70: UserWarning: `gpu` will be deprecated. Please use `tts.to(device)` instead.\n",
            "  warnings.warn(\"`gpu` will be deprecated. Please use `tts.to(device)` instead.\")\n"
          ]
        },
        {
          "name": "stdout",
          "output_type": "stream",
          "text": [
            " > Using model: xtts\n"
          ]
        }
      ],
      "source": [
        "#@title UTILS (It will take 5 minutes)\n",
        "\n",
        "def fix(text, max_chars=100):\n",
        "    text = text.strip()\n",
        "    chunks = []\n",
        "    punctuations = ['!', '?', '#', '$', '%', '&', '(', ')', '*', '+', ',', '-', '.', '/', ':', ';', '<', '=', '>', '?', '@', '[', '\\\\', ']', '^', '_', '`', '{', '|', '}', '~']\n",
        "    joining_words = [\"I\", \"I'm\", 'and', 'or', 'but', 'nor', 'for', 'so', 'yet', 'after', 'although', 'because', 'before', 'if', 'once', 'since', 'though', 'unless', 'until', 'when', 'where', 'while']\n",
        "    # Check for punctuations\n",
        "    for line in text.split(\"\\n\"):\n",
        "        modified_line = line.strip()\n",
        "        if len(modified_line) > 1:\n",
        "            current_chunk = ''\n",
        "            for char in modified_line:\n",
        "                if char in punctuations:\n",
        "                    chunks.append(current_chunk + char)\n",
        "                    current_chunk = ''\n",
        "                else:\n",
        "                    current_chunk += char\n",
        "            if current_chunk:\n",
        "                chunks.append(current_chunk)\n",
        "        else:\n",
        "            chunks.append(modified_line)\n",
        "\n",
        "\n",
        "    final_chunks = []\n",
        "    for line in chunks:\n",
        "        if len(line) > max_chars:\n",
        "            # If the line has more than max_words, split it based on joining words\n",
        "            current_chunk = ''\n",
        "            for word in line.split():\n",
        "                if word in joining_words:\n",
        "                    if current_chunk:\n",
        "                        final_chunks.append(current_chunk)\n",
        "                    final_chunks.append(word)\n",
        "                    current_chunk = ''\n",
        "                else:\n",
        "                    current_chunk += word + ' '\n",
        "            if current_chunk:\n",
        "                final_chunks.append(current_chunk.strip())\n",
        "        else:\n",
        "            final_chunks.append(line)\n",
        "\n",
        "    return final_chunks\n",
        "\n",
        "def merge_single_elements(input_list):\n",
        "    result_list = []\n",
        "    temp_list = []\n",
        "\n",
        "    for element in input_list:\n",
        "        # If temp_list is not empty and the last element in temp_list has 1 or 2 words\n",
        "        if temp_list and len(temp_list[-1].split()) <= 2:\n",
        "            # Merge the current element with the last element in temp_list\n",
        "            temp_list[-1] += ' ' + element\n",
        "        else:\n",
        "            # If the current element has more than 2 words, add it directly to temp_list\n",
        "            temp_list.append(element)\n",
        "\n",
        "    # Handle edge cases at the beginning and end of the list\n",
        "    if len(temp_list) >= 2 and len(temp_list[0].split()) <= 2:\n",
        "        # Merge the first element with the second element\n",
        "        temp_list[0] += ' ' + temp_list[1]\n",
        "        # Remove the second element\n",
        "        temp_list.pop(1)\n",
        "    elif len(temp_list) == 1 and len(temp_list[0].split()) <= 2:\n",
        "        # If there is only one element with 1 or 2 words, return it\n",
        "        return [temp_list[0].strip()]\n",
        "\n",
        "    # Handle the case where the last element is a single word\n",
        "    if len(temp_list[-1].split()) == 1:\n",
        "        # Merge it with the preceding element\n",
        "        temp_list[-2] += ' ' + temp_list[-1]\n",
        "        # Remove the last element\n",
        "        temp_list.pop()\n",
        "\n",
        "    # Clean and filter the modified list\n",
        "    filtered_list = [element.strip() for element in temp_list if element.strip() and element.strip() != \"'\" and element.strip() != '\"']\n",
        "    modified_list = [\n",
        "        i.replace(\"'\", \"\").strip() if i.strip().startswith(\"'\") or i.strip().endswith(\"'\") else i.strip()\n",
        "        for i in filtered_list\n",
        "    ]\n",
        "\n",
        "    return modified_list\n",
        "\n",
        "import re\n",
        "def get_chunks(text,full_stop):\n",
        "  if full_stop:\n",
        "    sentences = re.split(r'(?<=[.!?])\\s+', text)\n",
        "    filtered_list = [sentence for sentence in sentences if sentence]\n",
        "    return filtered_list\n",
        "\n",
        "    # temp_list = text.strip().split(\".\")\n",
        "    # filtered_list = [element.strip() + '.' for element in temp_list if element.strip() and element.strip() != \"'\" and element.strip() != '\"']\n",
        "    # return filtered_list\n",
        "  else:\n",
        "    output_list = merge_single_elements(fix(text, max_chars=200))\n",
        "    return output_list\n",
        "\n",
        "\n",
        "# Enter_text = \"The old clock tower in the heart of Whisperwind hummed with secrets. Its mossy face, etched with forgotten time, stared down upon Elara, a young woman with eyes the color of twilight and hair like spun moonlight. Tonight, under the cloak of a velvet sky, she stood poised on the precipice of adventure.  Elara wasn't a princess locked in a tower, nor a damsel in distress. She was a mapmaker, her fingers nimble with ink and compass, her heart wild with the yearning to chase uncharted lines across the world. But Whisperwind, her sleepy village nestled between rolling hills, held her captive with its invisible chains of tradition.  Tonight, however, the chains loosened. A cryptic note, left on her doorstep by a shadowy figure, whispered of a hidden map, a key to a lost city whispered in ancient legends. The city, they said, pulsed with forgotten magic, its streets paved with dreams and its towers kissed by stardust.  Elara, her pulse quickening like a hummingbird's wings, knew this was her chance. With a knapsack filled with inkwells and star charts, she slipped into the night, the old clock tower watching as she became a wisp of smoke against the canvas of stars.  Her journey led her through whispering forests and dandelion-dusted meadows, past slumbering giants carved from stone and rivers that sang forgotten lullabies. Along the way, she met companions \\u2013 a mischievous pixie with wings of moonlight, a grizzled mountain goat with eyes like polished obsidian, and a wise old tree whose roots pulsed with the rhythm of the earth.  Each companion, with their quirks and riddles, revealed a fragment of the map. The pixie led her through tangled paths, the goat climbed treacherous cliffs, and the tree whispered forgotten words that unlocked hidden doors. As Elara pieced together the map, the city grew closer, its silhouette shimmering on the horizon like a mirage.  Finally, they stood before a forgotten gate, overgrown with vines and humming with an ancient energy. Elara, her heart pounding a tribal rhythm, traced the map's final line on the gate \\u2013 a constellation etched in moonlight. With a groan and a sigh, the gate creaked open, revealing a city bathed in ethereal light.  The lost city was a tapestry woven from stardust and dreams. Towers kissed the clouds, their windows glowing with forgotten knowledge. Streets, paved with wishes, whispered stories of the past. And in the heart of it all, a library carved from living crystal held the map, not to a city, but to the infinite possibilities within herself.  Elara, no longer a mapmaker of sleepy villages, but a cartographer of the soul, returned to Whisperwind, not with riches, but with a map etched in her heart. And as she shared her tale, the village, once bound by tradition, stirred with a newfound hunger for adventure. For Elara had shown them that the greatest journeys aren't always outward, but the ones we take within ourselves.  The old clock tower, no longer a silent sentinel, hummed with a different tune now \\u2013 a song of possibilities, a melody of dreams waiting to take flight. And under the velvet sky, Elara, the mapmaker with eyes like twilight, smiled, knowing that her greatest adventure had just begun.\"  # @param {type: \"string\"}\n",
        "# full_stop = True # @param {type:\"boolean\"}\n",
        "\n",
        "# get_chunks(Enter_text,False)\n",
        "# from googletrans import Translator\n",
        "\n",
        "# def translate_text(text, target_language='en'):\n",
        "#     translator = Translator()\n",
        "#     translation = translator.translate(text, dest=target_language)\n",
        "#     return translation.text\n",
        "def translate_text(text, target_language='en'):\n",
        "  return text\n",
        "def xtts(Enter_text,save_path,Original_voice_path,language,translate_text_flag):\n",
        "  if translate_text_flag==True:\n",
        "    temp_text=translate_text(Enter_text, target_language=language)\n",
        "    if len(temp_text)>=1:\n",
        "      text=temp_text\n",
        "    else:\n",
        "      text=Enter_text\n",
        "  else:\n",
        "    text=Enter_text\n",
        "  tts.tts_to_file(text=text,\n",
        "                file_path=save_path,\n",
        "                speaker_wav=Original_voice_path,\n",
        "                language=language)\n",
        "  return save_path\n",
        "\n",
        "from pydub import AudioSegment\n",
        "\n",
        "def merge_audio_files(file_paths, output_path):\n",
        "    # Create an empty AudioSegment object to store the merged audio\n",
        "    merged_audio = AudioSegment.silent(duration=0)\n",
        "\n",
        "    # Iterate through the list of audio file paths and append each to the merged_audio\n",
        "    for file_path in file_paths:\n",
        "        audio = AudioSegment.from_file(file_path)\n",
        "        merged_audio += audio\n",
        "\n",
        "    # Export the merged audio to the specified output_path\n",
        "    merged_audio.export(output_path, format=\"wav\")\n",
        "#import tts\n",
        "from TTS.api import TTS\n",
        "tts = TTS(model_path=\"/content/XTTS-v2/\", config_path=\"/content/XTTS-v2/config.json\", progress_bar=True, gpu=True)"
      ]
    },
    {
      "cell_type": "code",
      "execution_count": null,
      "metadata": {
        "cellView": "form",
        "colab": {
          "base_uri": "https://localhost:8080/",
          "height": 35
        },
        "id": "uq5rICjGZLAP",
        "outputId": "98d1572e-89cf-40d9-b516-49101de286eb"
      },
      "outputs": [
        {
          "data": {
            "application/vnd.google.colaboratory.intrinsic+json": {
              "type": "string"
            },
            "text/plain": [
              "'/content/Prafull_Billore.wav'"
            ]
          },
          "execution_count": 2,
          "metadata": {},
          "output_type": "execute_result"
        }
      ],
      "source": [
        "#@title Upload 6s Audio clip\n",
        "import os\n",
        "from google.colab import files\n",
        "uploaded = files.upload()\n",
        "upload_list=[]\n",
        "for fn in uploaded.keys():\n",
        "  upload_list.append(os.getcwd()+'/'+fn)\n",
        "from IPython.display import clear_output\n",
        "clear_output()\n",
        "upload_list[-1]"
      ]
    },
    {
      "cell_type": "code",
      "execution_count": null,
      "metadata": {
        "cellView": "form",
        "colab": {
          "background_save": true
        },
        "id": "ee4y-s3sersG"
      },
      "outputs": [],
      "source": [
        "#@title Whose voice you want to copy\n",
        "Real_Human_Voice=\"\" # @param {type: \"string\"}\n",
        "from IPython.display import Audio\n",
        "Audio(Real_Human_Voice, autoplay=True)"
      ]
    },
    {
      "cell_type": "code",
      "execution_count": null,
      "metadata": {
        "cellView": "form",
        "colab": {
          "background_save": true
        },
        "id": "04QKqoejVd7C"
      },
      "outputs": [],
      "source": [
        "import os\n",
        "import shutil\n",
        "\n",
        "text = \"\"  # @param {type: \"string\"}\n",
        "\n",
        "save_path = ''  # @param {type: \"string\"}\n",
        "\n",
        "import os\n",
        "import uuid\n",
        "def get_new_tts_file_name(text):\n",
        "    if not os.path.exists(\"/content/colab_tts\"):\n",
        "      os.mkdir(\"/content/colab_tts\")\n",
        "    if text.endswith(\".\"):\n",
        "        text = text[:-1]\n",
        "    text = text.lower()\n",
        "    text = text.strip()\n",
        "    text = re.sub('[^a-z]+', '_', text)\n",
        "    truncated_text = text[:25] if len(text) > 25 else text if len(text) > 0 else \"empty\"\n",
        "    random_string = uuid.uuid4().hex[:8].upper()\n",
        "    audio_file_name = f\"/content/colab_tts/{truncated_text}_{random_string}.wav\"\n",
        "    video_file_name = f\"/content/colab_tts/{truncated_text}_{random_string}.mp4\"\n",
        "    return audio_file_name,video_file_name\n",
        "\n",
        "\n",
        "audio_file_name,video_file_name=get_new_tts_file_name(text)\n",
        "if not save_path:\n",
        "  save_path=audio_file_name\n",
        "def voice_clone(text,voice_name,save_path):\n",
        "  current=os.getcwd()\n",
        "  language = \"hi\" # @param [\"en\", \"hi\",\"ja\",\"zh-cn\",\"ko\", \"es\", \"fr\", \"de\", \"it\", \"pt\", \"pl\", \"tr\", \"ru\", \"nl\", \"cs\", \"ar\", \"zh-cn\",  \"hu\"]\n",
        "  Split_sentences_by_full_stop = True # @param {type:\"boolean\"}\n",
        "  # translate_text_flag  = True # @param {type:\"boolean\"}\n",
        "  translate_text_flag  = False\n",
        "  Original_voice_path=voice_name\n",
        "  list_of_text=get_chunks(text,True)\n",
        "  if os.path.exists(\"/content/temp_clone_tts/\"):\n",
        "    shutil.rmtree(\"/content/temp_clone_tts/\")\n",
        "  os.mkdir(\"/content/temp_clone_tts/\")\n",
        "  clone_chunk=[]\n",
        "  for index, text in enumerate(list_of_text):\n",
        "    print( index, text)\n",
        "    temp_save_path=f\"/content/temp_clone_tts/{index}.wav\"\n",
        "    xtts(text,temp_save_path,Original_voice_path,language,translate_text_flag)\n",
        "    if os.path.exists(temp_save_path):\n",
        "      clone_chunk.append(temp_save_path)\n",
        "  merge_audio_files(clone_chunk, save_path)\n",
        "  os.chdir(current)\n",
        "\n",
        "\n",
        "voice_clone(text,Real_Human_Voice,save_path)\n",
        "\n",
        "#@title Download clone voice as mp4\n",
        "from IPython.display import HTML\n",
        "from base64 import b64encode\n",
        "\n",
        "def show_video(video_path, video_width = 600):\n",
        "\n",
        "  video_file = open(video_path, \"r+b\").read()\n",
        "\n",
        "  video_url = f\"data:video/mp4;base64,{b64encode(video_file).decode()}\"\n",
        "  return HTML(f\"\"\"<video width={video_width} controls><source src=\"{video_url}\"></video>\"\"\")\n",
        "\n",
        "\n",
        "import locale\n",
        "def getpreferredencoding(do_setlocale = True):\n",
        "    return \"UTF-8\"\n",
        "locale.getpreferredencoding = getpreferredencoding\n",
        "mp4_path = ''  # @param {type: \"string\"}\n",
        "if not mp4_path:\n",
        "  mp4_path=video_file_name\n",
        "import os\n",
        "var=os.system(f\"seewav {save_path} {mp4_path}\")\n",
        "from google.colab import files\n",
        "auto_download  = True # @param {type:\"boolean\"}\n",
        "if auto_download:\n",
        "  files.download(mp4_path)\n",
        "print(f\"Audio path:{save_path}\")\n",
        "print(f\"Video path:{mp4_path}\")\n",
        "\n",
        "show_video(mp4_path)"
      ]
    },
    {
      "cell_type": "markdown",
      "metadata": {
        "id": "g7euA1A03_45"
      },
      "source": [
        "[Video Cutter](https://online-video-cutter.com/)\n",
        "\n",
        "[Audio Cutter](https://mp3cut.net/)"
      ]
    },
    {
      "cell_type": "code",
      "execution_count": null,
      "metadata": {
        "cellView": "form",
        "id": "opvPXXop27hK"
      },
      "outputs": [],
      "source": [
        "#@title Display clone audio\n",
        "from IPython.display import Audio\n",
        "Audio(save_path, autoplay=True)"
      ]
    },
    {
      "cell_type": "code",
      "execution_count": null,
      "metadata": {
        "cellView": "form",
        "colab": {
          "base_uri": "https://localhost:8080/",
          "height": 17
        },
        "id": "pRDHTBZeZFoH",
        "outputId": "e9c0f016-38ff-40b1-83be-970210912389"
      },
      "outputs": [
        {
          "data": {
            "application/javascript": [
              "\n",
              "    async function download(id, filename, size) {\n",
              "      if (!google.colab.kernel.accessAllowed) {\n",
              "        return;\n",
              "      }\n",
              "      const div = document.createElement('div');\n",
              "      const label = document.createElement('label');\n",
              "      label.textContent = `Downloading \"${filename}\": `;\n",
              "      div.appendChild(label);\n",
              "      const progress = document.createElement('progress');\n",
              "      progress.max = size;\n",
              "      div.appendChild(progress);\n",
              "      document.body.appendChild(div);\n",
              "\n",
              "      const buffers = [];\n",
              "      let downloaded = 0;\n",
              "\n",
              "      const channel = await google.colab.kernel.comms.open(id);\n",
              "      // Send a message to notify the kernel that we're ready.\n",
              "      channel.send({})\n",
              "\n",
              "      for await (const message of channel.messages) {\n",
              "        // Send a message to notify the kernel that we're ready.\n",
              "        channel.send({})\n",
              "        if (message.buffers) {\n",
              "          for (const buffer of message.buffers) {\n",
              "            buffers.push(buffer);\n",
              "            downloaded += buffer.byteLength;\n",
              "            progress.value = downloaded;\n",
              "          }\n",
              "        }\n",
              "      }\n",
              "      const blob = new Blob(buffers, {type: 'application/binary'});\n",
              "      const a = document.createElement('a');\n",
              "      a.href = window.URL.createObjectURL(blob);\n",
              "      a.download = filename;\n",
              "      div.appendChild(a);\n",
              "      a.click();\n",
              "      div.remove();\n",
              "    }\n",
              "  "
            ],
            "text/plain": [
              "<IPython.core.display.Javascript object>"
            ]
          },
          "metadata": {},
          "output_type": "display_data"
        },
        {
          "data": {
            "application/javascript": [
              "download(\"download_da5d3bbe-4f04-4d04-a763-5865cfc1d2f3\", \"clone.wav\", 374348)"
            ],
            "text/plain": [
              "<IPython.core.display.Javascript object>"
            ]
          },
          "metadata": {},
          "output_type": "display_data"
        }
      ],
      "source": [
        "#@title Download clone voice\n",
        "\n",
        "from google.colab import files\n",
        "files.download(save_path)"
      ]
    },
    {
      "cell_type": "code",
      "execution_count": null,
      "metadata": {
        "cellView": "form",
        "id": "OCtgDAVk9yDe"
      },
      "outputs": [],
      "source": [
        "#@title Download mp4\n",
        "\n",
        "from google.colab import files\n",
        "files.download(mp4_path)"
      ]
    }
  ],
  "metadata": {
    "accelerator": "GPU",
    "colab": {
      "provenance": []
    },
    "kernelspec": {
      "display_name": "Python 3",
      "name": "python3"
    },
    "language_info": {
      "name": "python"
    }
  },
  "nbformat": 4,
  "nbformat_minor": 0
}